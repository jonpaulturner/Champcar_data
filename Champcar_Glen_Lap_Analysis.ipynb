{
 "cells": [
  {
   "cell_type": "markdown",
   "metadata": {},
   "source": [
    "# Champcar Endurance Race Analysis - Watkins Glen 2019\n",
    "### Car No. 992 Millenial Motorsport"
   ]
  },
  {
   "cell_type": "markdown",
   "metadata": {},
   "source": [
    "Endurace car racing is a team sport. Only one driver is in the car at a time, but the decisions of the team and the performance of the car can have a much greater effect on the final result in a race than outright driver performance. Decisions such as when to change drivers and what repairs to do while the car is in pit lane can make or break a race. \n",
    "\n",
    "TODO: explain endurance racing. \n",
    "\n",
    "Watkins Glen marked the beginning of the 2019 Champcar season for Millenial Motorsports. It was our second year as a team, and with only three races in the team's 2018 season meant that there were still major kinks that needed to be worked out both with the car itself and with the team's operations and strategy. \n",
    "\n",
    "Champcar provides lap data for download after each race event, and post-race analysis of this data can help us identify any errors we made as a team, compare our performace to the leaders, and help identify ways that we can be more competitive.  "
   ]
  },
  {
   "cell_type": "code",
   "execution_count": 21,
   "metadata": {
    "collapsed": true
   },
   "outputs": [],
   "source": [
    "import pandas as pd\n",
    "import numpy as numpy\n",
    "import matplotlib.pyplot as plt"
   ]
  },
  {
   "cell_type": "markdown",
   "metadata": {},
   "source": [
    "Lap data is downloaded from mylaps.com as a csv. Overall data about the finishing positions of all the cars is availible, and more detailed data about individual cars is availible in a sub-menu. \n",
    "\n",
    "TODO: Write a script to download and aggregate detailed lap data for all competitors."
   ]
  },
  {
   "cell_type": "code",
   "execution_count": 28,
   "metadata": {
    "scrolled": true
   },
   "outputs": [],
   "source": [
    "#Import CSV downloaded from mylaps.com\n",
    "raw_data = pd.read_csv(\"Millennial_Motorsport_Laptimes_ChampCar_WatkinsGlen_2019_Saturday.csv\");\n",
    "\n",
    "#Set the Lap column to be the index for data\n",
    "#For multiple cars the index may have to be the time into the race (0-8hrs)\n",
    "raw_data = raw_data.set_index(\"Lap\")"
   ]
  },
  {
   "cell_type": "code",
   "execution_count": 29,
   "metadata": {},
   "outputs": [
    {
     "data": {
      "text/html": [
       "<div>\n",
       "<style>\n",
       "    .dataframe thead tr:only-child th {\n",
       "        text-align: right;\n",
       "    }\n",
       "\n",
       "    .dataframe thead th {\n",
       "        text-align: left;\n",
       "    }\n",
       "\n",
       "    .dataframe tbody tr th {\n",
       "        vertical-align: top;\n",
       "    }\n",
       "</style>\n",
       "<table border=\"1\" class=\"dataframe\">\n",
       "  <thead>\n",
       "    <tr style=\"text-align: right;\">\n",
       "      <th></th>\n",
       "      <th>Pos</th>\n",
       "      <th>Lap Time</th>\n",
       "      <th>Diff to Last Lap</th>\n",
       "      <th>Diff to Best Lap</th>\n",
       "      <th>Gap in Front</th>\n",
       "      <th>Diff to P1</th>\n",
       "      <th>Speed</th>\n",
       "    </tr>\n",
       "    <tr>\n",
       "      <th>Lap</th>\n",
       "      <th></th>\n",
       "      <th></th>\n",
       "      <th></th>\n",
       "      <th></th>\n",
       "      <th></th>\n",
       "      <th></th>\n",
       "      <th></th>\n",
       "    </tr>\n",
       "  </thead>\n",
       "  <tbody>\n",
       "    <tr>\n",
       "      <th>1</th>\n",
       "      <td>9</td>\n",
       "      <td>2:36.994</td>\n",
       "      <td>0.000</td>\n",
       "      <td>13.525</td>\n",
       "      <td>0.652</td>\n",
       "      <td>17.199</td>\n",
       "      <td>77.965 mi/h</td>\n",
       "    </tr>\n",
       "    <tr>\n",
       "      <th>2</th>\n",
       "      <td>8</td>\n",
       "      <td>2:26.199</td>\n",
       "      <td>-</td>\n",
       "      <td>2.730</td>\n",
       "      <td>0.256</td>\n",
       "      <td>25.235</td>\n",
       "      <td>83.722 mi/h</td>\n",
       "    </tr>\n",
       "    <tr>\n",
       "      <th>3</th>\n",
       "      <td>8</td>\n",
       "      <td>2:25.179</td>\n",
       "      <td>-</td>\n",
       "      <td>1.710</td>\n",
       "      <td>1.193</td>\n",
       "      <td>31.366</td>\n",
       "      <td>84.31 mi/h</td>\n",
       "    </tr>\n",
       "    <tr>\n",
       "      <th>4</th>\n",
       "      <td>9</td>\n",
       "      <td>2:25.369</td>\n",
       "      <td>0.190</td>\n",
       "      <td>1.900</td>\n",
       "      <td>0.355</td>\n",
       "      <td>30.907</td>\n",
       "      <td>84.2 mi/h</td>\n",
       "    </tr>\n",
       "    <tr>\n",
       "      <th>5</th>\n",
       "      <td>11</td>\n",
       "      <td>2:26.527</td>\n",
       "      <td>1.158</td>\n",
       "      <td>3.058</td>\n",
       "      <td>0.653</td>\n",
       "      <td>36.733</td>\n",
       "      <td>83.534 mi/h</td>\n",
       "    </tr>\n",
       "  </tbody>\n",
       "</table>\n",
       "</div>"
      ],
      "text/plain": [
       "     Pos  Lap Time Diff to Last Lap Diff to Best Lap Gap in Front Diff to P1  \\\n",
       "Lap                                                                            \n",
       "1      9  2:36.994            0.000           13.525        0.652     17.199   \n",
       "2      8  2:26.199                -            2.730        0.256     25.235   \n",
       "3      8  2:25.179                -            1.710        1.193     31.366   \n",
       "4      9  2:25.369            0.190            1.900        0.355     30.907   \n",
       "5     11  2:26.527            1.158            3.058        0.653     36.733   \n",
       "\n",
       "           Speed  \n",
       "Lap               \n",
       "1    77.965 mi/h  \n",
       "2    83.722 mi/h  \n",
       "3     84.31 mi/h  \n",
       "4      84.2 mi/h  \n",
       "5    83.534 mi/h  "
      ]
     },
     "execution_count": 29,
     "metadata": {},
     "output_type": "execute_result"
    }
   ],
   "source": [
    "raw_data.head()"
   ]
  },
  {
   "cell_type": "code",
   "execution_count": 52,
   "metadata": {},
   "outputs": [],
   "source": [
    "def laptime_to_float(lapstr):\n",
    "    time = lapstr.split(':')\n",
    "    laptime_sec = float(time[0])*60+float(time[1])\n",
    "    return laptime_sec"
   ]
  },
  {
   "cell_type": "code",
   "execution_count": 53,
   "metadata": {},
   "outputs": [
    {
     "data": {
      "image/png": "[encoded data removed]",
      "text/plain": [
       "<matplotlib.figure.Figure at 0x22b3f0799b0>"
      ]
     },
     "metadata": {},
     "output_type": "display_data"
    }
   ],
   "source": [
    "raw_data.plot(y=\"Pos\", use_index=True)\n",
    "plt.show()"
   ]
  },
  {
   "cell_type": "code",
   "execution_count": 84,
   "metadata": {},
   "outputs": [
    {
     "data": {
      "image/png": "[encoded data removed]",
      "text/plain": [
       "<matplotlib.figure.Figure at 0x22b40590da0>"
      ]
     },
     "metadata": {},
     "output_type": "display_data"
    }
   ],
   "source": [
    "raw_data[\"LapTimeSec\"] = raw_data[\"Lap Time\"].apply(laptime_to_float)\n",
    "raw_data.head()\n",
    "\n",
    "#Set plot figure size\n",
    "plt.rcParams[\"figure.figsize\"] = (20,6)\n",
    "\n",
    "#Plot lap time data\n",
    "raw_data.plot.bar(y=\"LapTimeSec\", use_index=True)\n",
    "plt.show()"
   ]
  },
  {
   "cell_type": "code",
   "execution_count": 92,
   "metadata": {},
   "outputs": [
    {
     "data": {
      "image/png": "[encoded data removed]",
      "text/plain": [
       "<matplotlib.figure.Figure at 0x22b403dbf98>"
      ]
     },
     "metadata": {},
     "output_type": "display_data"
    }
   ],
   "source": [
    "#Set plot figure size\n",
    "#plt.rcParams[\"figure.figsize\"] = (20,6)\n",
    "\n",
    "#Plot lap time data\n",
    "#raw_data.plot.bar(y=\"LapTimeSec\", use_index=True)\n",
    "#plt.show()\n",
    "\n",
    "plt.figure()\n",
    "\n",
    "#cleanlap = df[df['a']<5]\n",
    "cleanlap = raw_data[raw_data[\"LapTimeSec\"]<170]\n",
    "yellowlap= raw_data[(raw_data[\"LapTimeSec\"]>170) & (raw_data[\"LapTimeSec\"]<350)]\n",
    "pitlap = raw_data[raw_data[\"LapTimeSec\"]>350]\n",
    "\n",
    "\n",
    "plt.bar(cleanlap.index.values, cleanlap[\"LapTimeSec\"], color='lightskyblue')\n",
    "plt.bar(yellowlap.index.values, yellowlap[\"LapTimeSec\"], color='gold')\n",
    "plt.bar(pitlap.index.values, pitlap[\"LapTimeSec\"], color='r')\n",
    "\n",
    "plt.show()\n",
    "\n",
    "#plt.bar(t1.index.values, t1['a'], color='tomato')\n",
    "#plt.bar(t2.index.values, t2['a'], color='gold')"
   ]
  },
  {
   "cell_type": "code",
   "execution_count": 103,
   "metadata": {},
   "outputs": [],
   "source": [
    "pit = pitlap.index.values"
   ]
  },
  {
   "cell_type": "code",
   "execution_count": 104,
   "metadata": {},
   "outputs": [
    {
     "data": {
      "text/plain": [
       "29"
      ]
     },
     "execution_count": 104,
     "metadata": {},
     "output_type": "execute_result"
    }
   ],
   "source": [
    "pit[0]"
   ]
  },
  {
   "cell_type": "code",
   "execution_count": null,
   "metadata": {
    "collapsed": true
   },
   "outputs": [],
   "source": []
  }
 ],
 "metadata": {
  "kernelspec": {
   "display_name": "Python 3",
   "language": "python",
   "name": "python3"
  },
  "language_info": {
   "codemirror_mode": {
    "name": "ipython",
    "version": 3
   },
   "file_extension": ".py",
   "mimetype": "text/x-python",
   "name": "python",
   "nbconvert_exporter": "python",
   "pygments_lexer": "ipython3",
   "version": "3.6.1"
  }
 },
 "nbformat": 4,
 "nbformat_minor": 2
}
